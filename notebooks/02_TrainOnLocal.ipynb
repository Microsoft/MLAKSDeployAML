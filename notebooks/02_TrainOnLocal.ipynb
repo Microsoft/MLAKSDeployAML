{
 "cells": [
  {
   "cell_type": "markdown",
   "source": [
    "Copyright (c) Microsoft Corporation. All rights reserved.\n",
    "\n",
    "Licensed under the MIT License.\n",
    "\n",
    "# Train Locally\n",
    "In this notebook, you will perform the following using Azure Machine Learning.\n",
    "* Load workspace.\n",
    "* Configure & execute a local run in a user-managed Python environment.\n",
    "* Configure & execute a local run in a system-managed Python environment.\n",
    "* Configure & execute a local run in a Docker environment.\n",
    "* Register model for operationalization."
   ],
   "metadata": {
    "collapsed": false
   }
  },
  {
   "cell_type": "code",
   "execution_count": 19,
   "outputs": [],
   "source": [
    "import os\n",
    "\n",
    "from azure_utils.machine_learning.utils import get_workspace_from_config\n",
    "from azureml.core import Experiment\n",
    "from azureml.core import ScriptRunConfig\n",
    "from azureml.core.runconfig import RunConfiguration\n",
    "\n",
    "from notebooks import directory"
   ],
   "metadata": {
    "collapsed": false,
    "pycharm": {
     "name": "#%%\n",
     "is_executing": false
    }
   }
  },
  {
   "cell_type": "markdown",
   "source": [
    "## Initialize Model Hyperparameters\n",
    "\n",
    "This notebook uses a training script that uses \n",
    "[lightgbm](https://lightgbm.readthedocs.io/en/latest/Python-API.html#scikit-learn-api). \n",
    "Here we set the number of estimators. "
   ],
   "metadata": {
    "collapsed": false
   }
  },
  {
   "cell_type": "code",
   "execution_count": 20,
   "outputs": [],
   "source": [
    "num_estimators = \"10\""
   ],
   "metadata": {
    "collapsed": false,
    "pycharm": {
     "name": "#%%\n",
     "is_executing": false
    }
   }
  },
  {
   "cell_type": "markdown",
   "source": [
    "## Initialize Workspace\n",
    "\n",
    "Initialize a workspace object from persisted configuration file."
   ],
   "metadata": {
    "collapsed": false
   }
  },
  {
   "cell_type": "code",
   "execution_count": 21,
   "outputs": [
    {
     "name": "stdout",
     "text": [
      "dciborowlapws\n",
      "dciborow-lap-test\n",
      "westus\n"
     ],
     "output_type": "stream"
    }
   ],
   "source": [
    "ws = get_workspace_from_config()\n",
    "print(ws.name, ws.resource_group, ws.location, sep=\"\\n\")"
   ],
   "metadata": {
    "collapsed": false,
    "pycharm": {
     "name": "#%%\n",
     "is_executing": false
    }
   }
  },
  {
   "cell_type": "markdown",
   "source": [
    "## Create An Experiment\n",
    "**Experiment** is a logical container in an Azure ML Workspace. It hosts run records which can include run metrics \n",
    "and output artifacts from your experiments."
   ],
   "metadata": {
    "collapsed": false
   }
  },
  {
   "cell_type": "code",
   "execution_count": 22,
   "outputs": [],
   "source": [
    "experiment_name = \"mlaks-train-on-local\"\n",
    "exp = Experiment(workspace=ws, name=experiment_name)"
   ],
   "metadata": {
    "collapsed": false,
    "pycharm": {
     "name": "#%%\n",
     "is_executing": false
    }
   }
  },
  {
   "cell_type": "markdown",
   "source": [
    "## Configure & Run\n",
    "\n",
    "In this section, we show three different ways of locally training your model through Azure ML SDK for demonstration \n",
    "purposes. Only one of these runs is sufficient to register the model.\n",
    "\n",
    "\n",
    "### User-managed environment\n",
    "Below, we use a user-managed run, which means you are responsible to ensure all the necessary packages that are \n",
    "available in the Python environment you choose to run the script. We will use the environment created for this \n",
    "tutorial which has Azure ML SDK and other dependencies installed."
   ],
   "metadata": {
    "collapsed": false
   }
  },
  {
   "cell_type": "code",
   "execution_count": 23,
   "outputs": [],
   "source": [
    "# Editing a run configuration property on-fly.\n",
    "run_config_user_managed = RunConfiguration()\n",
    "\n",
    "run_config_user_managed.environment.python.user_managed_dependencies = True\n",
    "\n",
    "# Choose the specific Python environment of this tutorial by pointing to the Python path\n",
    "run_config_user_managed.environment.python.interpreter_path = \"/anaconda/envs/az-ml-realtime-score/bin/python\"\n"
   ],
   "metadata": {
    "collapsed": false,
    "pycharm": {
     "name": "#%%\n",
     "is_executing": false
    }
   }
  },
  {
   "cell_type": "markdown",
   "source": [
    "#### Submit script to run in the user-managed environment\n",
    "Note that the whole `scripts` folder is submitted for execution, including the `item_selector.py` and `label_rank.py` \n",
    "files. The model will be written to `outputs` directory which is a special directory such that all content in this \n",
    "directory is automatically uploaded to your workspace. "
   ],
   "metadata": {
    "collapsed": false
   }
  },
  {
   "cell_type": "code",
   "execution_count": 24,
   "outputs": [],
   "source": [
    "if not os.path.isdir(\"script\"):\n",
    "    os.mkdir(\"script\")"
   ],
   "metadata": {
    "collapsed": false,
    "pycharm": {
     "name": "#%%\n",
     "is_executing": false
    }
   }
  },
  {
   "cell_type": "code",
   "execution_count": 25,
   "outputs": [
    {
     "name": "stdout",
     "text": [
      "Overwriting script/create_model.py\n"
     ],
     "output_type": "stream"
    }
   ],
   "source": [
    "%%writefile script/create_model.py\n",
    "from azure_utils.machine_learning import create_model\n",
    "\n",
    "if __name__ == '__main__':\n",
    "    create_model.main()\n"
   ],
   "metadata": {
    "collapsed": false,
    "pycharm": {
     "name": "#%%\n",
     "is_executing": false
    }
   }
  },
  {
   "cell_type": "code",
   "execution_count": 26,
   "outputs": [],
   "source": [
    "script = \"create_model.py\"\n",
    "args = [\n",
    "    \"--inputs\",\n",
    "    os.path.abspath(directory + \"/data_folder\"),\n",
    "    \"--outputs\",\n",
    "    \"outputs\",\n",
    "    \"--estimators\",\n",
    "    num_estimators,\n",
    "    \"--match\",\n",
    "    \"5\",\n",
    "]"
   ],
   "metadata": {
    "collapsed": false,
    "pycharm": {
     "name": "#%%\n",
     "is_executing": false
    }
   }
  },
  {
   "cell_type": "code",
   "execution_count": 27,
   "outputs": [
    {
     "name": "stdout",
     "text": [
      "RunId: mlaks-train-on-local_1582779167_afeaba3b\n",
      "Web View: https://ml.azure.com/experiments/mlaks-train-on-local/runs/mlaks-train-on-local_1582779167_afeaba3b?wsid=/subscriptions/0ca618d2-22a8-413a-96d0-0f1b531129c3/resourcegroups/dciborow-lap-test/workspaces/dciborowlapws\n",
      "\n",
      "Streaming azureml-logs/60_control_log.txt\n",
      "=========================================\n",
      "\n",
      "Streaming log file azureml-logs/60_control_log.txt\n",
      "Running: ['cmd.exe', '/c', 'C:\\\\Users\\\\dciborow\\\\AppData\\\\Local\\\\Temp\\\\azureml_runs\\\\mlaks-train-on-local_1582779167_afeaba3b\\\\azureml-environment-setup/conda_env_checker.bat']\n",
      "\n",
      "Streaming azureml-logs/70_driver_log.txt\n",
      "========================================\n",
      "\n",
      "Starting the daemon thread to refresh tokens in background for process with pid = 13488\n",
      "Entering Run History Context Manager.\n",
      "Preparing to call script [ create_model.py ] with arguments: ['--inputs', 'C:\\\\Users\\\\dciborow\\\\Source\\\\Repos\\\\az-ml-realtime-score\\\\notebooks\\\\data_folder', '--outputs', 'outputs', '--estimators', '10', '--match', '5']\n",
      "After variable expansion, calling script [ create_model.py ] with arguments: ['--inputs', 'C:\\\\Users\\\\dciborow\\\\Source\\\\Repos\\\\az-ml-realtime-score\\\\notebooks\\\\data_folder', '--outputs', 'outputs', '--estimators', '10', '--match', '5']\n",
      "\n",
      "C:\\Users\\dciborow\\.conda\\envs\\az-ml-realtime-score\\lib\\site-packages\\sklearn\\externals\\joblib\\__init__.py:15: FutureWarning: sklearn.externals.joblib is deprecated in 0.21 and will be removed in 0.23. Please import this functionality directly from joblib, which can be installed with: pip install joblib. If this warning is raised when loading pickled models, you may need to re-serialize those models with scikit-learn 0.21+.\n",
      "  warnings.warn(msg, category=FutureWarning)\n",
      "Reading C:\\Users\\dciborow\\Source\\Repos\\az-ml-realtime-score\\notebooks\\data_folder\\balanced_pairs_train.tsv\n",
      "train: 33,125 rows with 20.00% matches\n",
      "Training...\n",
      "outputs\\model.pkl size: 1.46 MB\n",
      "Reading C:\\Users\\dciborow\\Source\\Repos\\az-ml-realtime-score\\notebooks\\data_folder\\balanced_pairs_test.tsv\n",
      "test: 297,570 rows with 0.55% matches\n",
      "Testing...\n",
      "Accuracy @1 = 0.00%\n",
      "Accuracy @2 = 24.04%\n",
      "Accuracy @3 = 34.74%\n",
      "Mean Rank 29.5104\n",
      "\n",
      "\n",
      "The experiment completed successfully. Finalizing run...\n",
      "Logging experiment finalizing status in history service.\n",
      "Starting the daemon thread to refresh tokens in background for process with pid = 13488\n",
      "Cleaning up all outstanding Run operations, waiting 300.0 seconds\n",
      "2 items cleaning up...\n",
      "Cleanup took 0.005007028579711914 seconds\n",
      "\n",
      "Execution Summary\n",
      "=================\n",
      "RunId: mlaks-train-on-local_1582779167_afeaba3b\n",
      "Web View: https://ml.azure.com/experiments/mlaks-train-on-local/runs/mlaks-train-on-local_1582779167_afeaba3b?wsid=/subscriptions/0ca618d2-22a8-413a-96d0-0f1b531129c3/resourcegroups/dciborow-lap-test/workspaces/dciborowlapws\n",
      "\n"
     ],
     "output_type": "stream"
    },
    {
     "data": {
      "text/plain": "{'Accuracy @1': 0.0,\n 'Accuracy @2': 0.24036697247706423,\n 'Accuracy @3': 0.3474006116207951,\n 'Mean Rank': 29.51039755351682}"
     },
     "metadata": {},
     "output_type": "execute_result",
     "execution_count": 27
    }
   ],
   "source": [
    "src = ScriptRunConfig(\n",
    "    source_directory=\"./script\",\n",
    "    script=script,\n",
    "    arguments=args,\n",
    "    run_config=run_config_user_managed,\n",
    ")\n",
    "\n",
    "run = exp.submit(src)    \n",
    "run.wait_for_completion(show_output=True)\n",
    "run.get_file_names()\n",
    "run.get_metrics()"
   ],
   "metadata": {
    "collapsed": false,
    "pycharm": {
     "name": "#%%\n",
     "is_executing": false
    }
   }
  },
  {
   "cell_type": "markdown",
   "source": [
    "## Register Model"
   ],
   "metadata": {
    "collapsed": false
   }
  },
  {
   "cell_type": "code",
   "execution_count": 28,
   "outputs": [
    {
     "data": {
      "text/plain": "{'Accuracy @1': 0.0,\n 'Accuracy @2': 0.24036697247706423,\n 'Accuracy @3': 0.3474006116207951,\n 'Mean Rank': 29.51039755351682}"
     },
     "metadata": {},
     "output_type": "execute_result",
     "execution_count": 28
    }
   ],
   "source": [
    "run.get_metrics()"
   ],
   "metadata": {
    "collapsed": false,
    "pycharm": {
     "name": "#%%\n",
     "is_executing": false
    }
   }
  },
  {
   "cell_type": "markdown",
   "source": [
    "## Register Model\n",
    "\n",
    "We now register the model with the workspace so that we can later deploy the model."
   ],
   "metadata": {
    "collapsed": false
   }
  },
  {
   "cell_type": "code",
   "execution_count": 29,
   "outputs": [],
   "source": [
    "# supply a model name, and the full path to the serialized model file.\n",
    "model = run.register_model(model_name=\"question_match_model\", model_path=\"./outputs/model.pkl\")"
   ],
   "metadata": {
    "collapsed": false,
    "pycharm": {
     "name": "#%%\n",
     "is_executing": false
    }
   }
  },
  {
   "cell_type": "code",
   "execution_count": 30,
   "outputs": [
    {
     "name": "stdout",
     "text": [
      "question_match_model\n",
      "1\n",
      "aml://asset/b990ad8f9702428c9e978a0cd470ed8f\n"
     ],
     "output_type": "stream"
    }
   ],
   "source": [
    "print(model.name, model.version, model.url, sep=\"\\n\")"
   ],
   "metadata": {
    "collapsed": false,
    "pycharm": {
     "name": "#%%\n",
     "is_executing": false
    }
   }
  },
  {
   "cell_type": "markdown",
   "source": [
    "We can now move on to [Develop Scoring Script](03_DevelopScoringScript.ipynb) notebook to train our model\n",
    "using Azure Machine Learning."
   ],
   "metadata": {
    "collapsed": false
   }
  }
 ],
 "metadata": {
  "authors": [
   {
    "name": "roastala"
   }
  ],
  "kernelspec": {
   "display_name": "az-ml-realtime-score",
   "language": "python",
   "name": "az-ml-realtime-score"
  },
  "language_info": {
   "codemirror_mode": {
    "name": "ipython",
    "version": 3
   },
   "file_extension": ".py",
   "mimetype": "text/x-python",
   "name": "python",
   "nbconvert_exporter": "python",
   "pygments_lexer": "ipython3",
   "version": "3.6.2"
  },
  "pycharm": {
   "stem_cell": {
    "cell_type": "raw",
    "source": [],
    "metadata": {
     "collapsed": false
    }
   }
  }
 },
 "nbformat": 4,
 "nbformat_minor": 2
}