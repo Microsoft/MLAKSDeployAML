{
 "cells": [
  {
   "cell_type": "markdown",
   "metadata": {},
   "source": [
    "Copyright (c) Microsoft Corporation. All rights reserved.\n",
    "\n",
    "Licensed under the MIT License."
   ]
  },
  {
   "cell_type": "markdown",
   "metadata": {},
   "source": [
    "# Deploying a ML module on IoT Edge Device\n",
    "\n",
    "\n",
    "In this notebook, we introduce the steps of deploying an ML module on [Azure IoT Edge](https://docs.microsoft.com/en-us/azure/iot-edge/how-iot-edge-works). The purpose is to deploy a trained machine learning model to the edge device. When the input data is generated from a particular process pipeline and fed into the edge device, the deployed model is able to make predictions right on the edge device without accessing to the cloud. \n",
    "\n",
    "\n",
    "## Outline<a id=\"BackToTop\"></a>\n",
    "- [Step 1: Create an IoT Hub and Register an IoT Edge device](#step1)\n",
    "- [Step 2: Provision and Configure IoT Edge Device](#step2)\n",
    "- [Step 3: Deploy ML Module on IoT Edge Device](#step3)\n",
    "- [Step 4: Test ML Module](#step4)\n",
    "- [Clean up resource](#cleanup)"
   ]
  },
  {
   "cell_type": "code",
   "execution_count": null,
   "metadata": {},
   "outputs": [],
   "source": [
    "import sys\n",
    "import pandas as pd\n",
    "import requests\n",
    "import numpy as np\n",
    "import json\n",
    "import docker\n",
    "import time\n",
    "\n",
    "from azureml.core import Workspace\n",
    "from azureml.core.image import Image\n",
    "from azureml.core.workspace import Workspace\n",
    "from azureml.core.conda_dependencies import CondaDependencies\n",
    "from azure.mgmt.containerregistry import ContainerRegistryManagementClient\n",
    "from azure.mgmt import containerregistry\n",
    "from dotenv import set_key, get_key, find_dotenv\n",
    "\n",
    "from utilities import text_to_json, get_auth"
   ]
  },
  {
   "cell_type": "code",
   "execution_count": null,
   "metadata": {},
   "outputs": [],
   "source": [
    "env_path = find_dotenv(raise_error_if_not_found=True)"
   ]
  },
  {
   "cell_type": "markdown",
   "metadata": {},
   "source": [
    "## Step 1 Create an IoT Hub and Register an IoT Edge device  <a id=\"step1\"></a>\n",
    "\n",
    "For more infromation, please check Sections `Create an IoT hub` and `Register an IoT Edge device` in document [Deploy Azure IoT Edge on a simulated device in Linux or MacOS - preview](https://docs.microsoft.com/en-us/azure/iot-edge/tutorial-simulate-device-linux). When creating IoT hub, we assume you use the same resource group as the one created in [00_AML_Configuration.ipynb](./00_AML_Configuration.ipynb). "
   ]
  },
  {
   "cell_type": "markdown",
   "metadata": {},
   "source": [
    "### Get workspace\n",
    "\n",
    "Load existing workspace from the config file."
   ]
  },
  {
   "cell_type": "code",
   "execution_count": null,
   "metadata": {},
   "outputs": [],
   "source": [
    "ws = Workspace.from_config(auth=get_auth(env_path))\n",
    "print(ws.name, ws.resource_group, ws.location, sep=\"\\n\")"
   ]
  },
  {
   "cell_type": "code",
   "execution_count": 83,
   "metadata": {
    "tags": [
     "parameters"
    ]
   },
   "outputs": [],
   "source": [
    "iot_hub_name = \"<YOUR_IOT_HUB_NAME>\" # a UNIQUE name is required, e.g. \"fstlstnameiothub\". Avoid too simple name such as \"myiothub\".\n",
    "device_id = \"<YOUR_EDGE_DEVICE_NAME>\" # the name you give to the edge device. e.g. device_id = 'mydevice'\n",
    "module_name = \"<YOUR_MODULE_NAME>\"   # the module name. e.g. module_name = 'mymodule'"
   ]
  },
  {
   "cell_type": "code",
   "execution_count": null,
   "metadata": {},
   "outputs": [],
   "source": [
    "set_key(env_path, \"iot_hub_name\", iot_hub_name)\n",
    "set_key(env_path, \"device_id\", device_id)\n",
    "set_key(env_path, \"module_name\", module_name)"
   ]
  },
  {
   "cell_type": "code",
   "execution_count": null,
   "metadata": {},
   "outputs": [],
   "source": [
    "resource_group = get_key(env_path, 'resource_group')\n",
    "image_name = get_key(env_path, 'image_name')"
   ]
  },
  {
   "cell_type": "markdown",
   "metadata": {},
   "source": [
    "### Install az-cli iot extension "
   ]
  },
  {
   "cell_type": "code",
   "execution_count": null,
   "metadata": {},
   "outputs": [],
   "source": [
    "accounts = !az account list --all -o tsv\n",
    "if \"Please run \\\"az login\\\" to access your accounts.\" in accounts[0]:\n",
    "    !az login -o table\n",
    "else:\n",
    "    print(\"Already logged in\")"
   ]
  },
  {
   "cell_type": "code",
   "execution_count": null,
   "metadata": {},
   "outputs": [],
   "source": [
    "# install az-cli iot extension \n",
    "!az extension add --name azure-cli-iot-ext"
   ]
  },
  {
   "cell_type": "markdown",
   "metadata": {},
   "source": [
    "### Create IoT Hub\n",
    "\n",
    "Azure IoT Hub provides several [price tiers](https://azure.microsoft.com/en-us/pricing/details/iot-hub/), which supports varying capabilities. \n",
    "\n",
    "We create a non-free Standard tier S1 hub in this notebook. Besides, we also provide the command to create a free tier F1."
   ]
  },
  {
   "cell_type": "code",
   "execution_count": null,
   "metadata": {},
   "outputs": [],
   "source": [
    "!az iot hub list --resource-group $resource_group -o table"
   ]
  },
  {
   "cell_type": "code",
   "execution_count": null,
   "metadata": {},
   "outputs": [],
   "source": [
    "# Command to create a Standard tier S1 hub with name `iot_hub_name` in the resource group `resource_group`.\n",
    "!az iot hub create --resource-group $resource_group --name $iot_hub_name --sku S1"
   ]
  },
  {
   "cell_type": "code",
   "execution_count": null,
   "metadata": {},
   "outputs": [],
   "source": [
    "# Command to create a free tier F1 hub. You may encounter error \"Max number of Iot Hubs exceeded for sku = Free\" if quota is reached.\n",
    "# !az iot hub create --resource-group $resource_group --name $iot_hub_name --sku F1 "
   ]
  },
  {
   "cell_type": "markdown",
   "metadata": {},
   "source": [
    "### Register an IoT Edge device\n",
    "\n",
    "In the Azure cloud shell, enter the following command to create a device with name `device_id` in your iot hub."
   ]
  },
  {
   "cell_type": "code",
   "execution_count": null,
   "metadata": {},
   "outputs": [],
   "source": [
    "!az iot hub device-identity create --hub-name $iot_hub_name --device-id $device_id --edge-enabled -g $resource_group"
   ]
  },
  {
   "cell_type": "markdown",
   "metadata": {},
   "source": [
    "Obtain `device_connection_string`. It will be used in the next step."
   ]
  },
  {
   "cell_type": "code",
   "execution_count": null,
   "metadata": {},
   "outputs": [],
   "source": [
    "json_data = !az iot hub device-identity show-connection-string --device-id $device_id --hub-name $iot_hub_name -g $resource_group\n",
    "print(json_data)"
   ]
  },
  {
   "cell_type": "code",
   "execution_count": null,
   "metadata": {},
   "outputs": [],
   "source": [
    "device_connection_string = json.loads(''.join([i for i in json_data if 'WARNING' not in i]))['connectionString']\n",
    "print(device_connection_string)"
   ]
  },
  {
   "cell_type": "markdown",
   "metadata": {},
   "source": [
    "## Step 2 Provision and Configure IoT Edge Device  <a id=\"step2\"></a>\n",
    "\n",
    "In this tutorial, we use a NC6 Ubuntu Linux VM as the edge device, which is the same Linux VM where you run the current notebook. The goal is to configure the edge device so that it can run [Docker](https://docs.docker.com/v17.12/install/linux/docker-ee/ubuntu), [nvidia-docker](https://github.com/NVIDIA/nvidia-docker), and [IoT Edge runtime](https://docs.microsoft.com/en-us/azure/iot-edge/how-to-install-iot-edge-linux). If another device is used as the edge device, instructions need to be adjusted accordingly. "
   ]
  },
  {
   "cell_type": "markdown",
   "metadata": {},
   "source": [
    "### Register Microsoft key and software repository feed\n",
    "\n",
    "Prepare your device for the IoT Edge runtime installation."
   ]
  },
  {
   "cell_type": "code",
   "execution_count": 91,
   "metadata": {},
   "outputs": [
    {
     "name": "stdout",
     "output_type": "stream",
     "text": [
      "16.04\n"
     ]
    }
   ],
   "source": [
    "# Install the repository configuration. Replace <release> with 16.04 or 18.04 as appropriate for your release of Ubuntu.\n",
    "release = !lsb_release -r\n",
    "release  = release[0].split('\\t')[1]\n",
    "print(release)"
   ]
  },
  {
   "cell_type": "code",
   "execution_count": null,
   "metadata": {},
   "outputs": [],
   "source": [
    "!curl https://packages.microsoft.com/config/ubuntu/$release/prod.list > ./microsoft-prod.list"
   ]
  },
  {
   "cell_type": "code",
   "execution_count": null,
   "metadata": {},
   "outputs": [],
   "source": [
    "# Copy the generated list.\n",
    "!sudo cp ./microsoft-prod.list /etc/apt/sources.list.d/"
   ]
  },
  {
   "cell_type": "code",
   "execution_count": null,
   "metadata": {},
   "outputs": [],
   "source": [
    "#Install Microsoft GPG public key\n",
    "!curl https://packages.microsoft.com/keys/microsoft.asc | gpg --dearmor > microsoft.gpg\n",
    "!sudo cp ./microsoft.gpg /etc/apt/trusted.gpg.d/"
   ]
  },
  {
   "cell_type": "markdown",
   "metadata": {},
   "source": [
    "### Install the Azure IoT Edge Security Daemon\n",
    "\n",
    "The IoT Edge security daemon provides and maintains security standards on the IoT Edge device. The daemon starts on every boot and bootstraps the device by starting the rest of the IoT Edge runtime.\n",
    "The installation command also installs the standard version of the iothsmlib if not already present."
   ]
  },
  {
   "cell_type": "code",
   "execution_count": null,
   "metadata": {},
   "outputs": [],
   "source": [
    "# Perform apt update.\n",
    "!sudo apt-get update"
   ]
  },
  {
   "cell_type": "code",
   "execution_count": null,
   "metadata": {},
   "outputs": [],
   "source": [
    "# Install the security daemon. The package is installed at /etc/iotedge/.\n",
    "!sudo apt-get install iotedge -y --no-install-recommends"
   ]
  },
  {
   "cell_type": "markdown",
   "metadata": {},
   "source": [
    "### Configure the Azure IoT Edge Security \n",
    "\n",
    "Configure the IoT Edge runtime to link your physical device with a device identity that exists in an Azure IoT hub.\n",
    "The daemon can be configured using the configuration file at /etc/iotedge/config.yaml. The file is write-protected by default, you might need elevated permissions to edit it."
   ]
  },
  {
   "cell_type": "code",
   "execution_count": null,
   "metadata": {},
   "outputs": [],
   "source": [
    "# Manual provisioning IoT edge device\n",
    "!sudo sed -i \"s#\\(device_connection_string: \\).*#\\1\\\"$device_connection_string\\\"#g\" /etc/iotedge/config.yaml"
   ]
  },
  {
   "cell_type": "code",
   "execution_count": null,
   "metadata": {},
   "outputs": [],
   "source": [
    "# restart the daemon\n",
    "!sudo systemctl restart iotedge\n",
    "time.sleep(10) # Wait 10 seconds for iotedge to restart"
   ]
  },
  {
   "cell_type": "code",
   "execution_count": null,
   "metadata": {},
   "outputs": [],
   "source": [
    "# restart the daemon again\n",
    "!sudo systemctl restart iotedge"
   ]
  },
  {
   "cell_type": "markdown",
   "metadata": {},
   "source": [
    "### Verify successful installation"
   ]
  },
  {
   "cell_type": "code",
   "execution_count": null,
   "metadata": {},
   "outputs": [],
   "source": [
    "# check the status of the IoT Edge Daemon\n",
    "!systemctl status iotedge"
   ]
  },
  {
   "cell_type": "code",
   "execution_count": null,
   "metadata": {},
   "outputs": [],
   "source": [
    "# Examine daemon logs\n",
    "!journalctl -u iotedge --no-pager --no-full"
   ]
  },
  {
   "cell_type": "markdown",
   "metadata": {},
   "source": [
    "When you run `docker ps` command in the edge device, you should see `edgeAgent` container is up running."
   ]
  },
  {
   "cell_type": "code",
   "execution_count": null,
   "metadata": {},
   "outputs": [],
   "source": [
    "!docker ps"
   ]
  },
  {
   "cell_type": "markdown",
   "metadata": {},
   "source": [
    "### (Optional) Alternative Approach to Configure IoT Edge Device\n",
    "\n",
    "Use this approach if your edge device is a different server than the host server. Note that your edge device must satisfy following prequequisites:\n",
    "\n",
    "- Linux (x64)\n",
    "- Docker installed\n",
    "\n",
    "Step 1: run appropriate cells above to get the value for following variable.\n",
    "\n",
    "- device_connection_string\n",
    "\n",
    "Step 2: run approprate commands on the edge device to get values for following variables.\n",
    "\n",
    "- release\n",
    "\n",
    "Step 3: run next cell to generate *deviceconfig.sh* file. \n",
    "\n",
    "Step 4: run all the commands in *deviceconfig.sh* file on your edge device. \n"
   ]
  },
  {
   "cell_type": "code",
   "execution_count": null,
   "metadata": {},
   "outputs": [],
   "source": [
    "file = open('./deviceconfig_template.sh')\n",
    "contents = file.read()\n",
    "contents = contents.replace('__release', release)\n",
    "contents = contents.replace('__device_connection_string', device_connection_string)\n",
    "\n",
    "with open('./deviceconfig.sh', 'wt', encoding='utf-8') as output_file:\n",
    "    output_file.write(contents)"
   ]
  },
  {
   "cell_type": "markdown",
   "metadata": {},
   "source": [
    "## Step 3: Deploy the ML module  <a id=\"step3\"></a>\n",
    "\n",
    "For more information, please check instructions from [this doc](https://docs.microsoft.com/en-us/azure/machine-learning/service/how-to-deploy-and-where)."
   ]
  },
  {
   "cell_type": "code",
   "execution_count": null,
   "metadata": {},
   "outputs": [],
   "source": [
    "docker_client = docker.APIClient(base_url='unix://var/run/docker.sock')"
   ]
  },
  {
   "cell_type": "code",
   "execution_count": null,
   "metadata": {},
   "outputs": [],
   "source": [
    "# get the image from workspace in case the 'image' object is not in the memory\n",
    "image_name = get_key(env_path, 'image_name')\n",
    "image = ws.images[image_name]"
   ]
  },
  {
   "cell_type": "code",
   "execution_count": null,
   "metadata": {},
   "outputs": [],
   "source": [
    "# Getting your container details\n",
    "container_reg = ws.get_details()[\"containerRegistry\"]\n",
    "reg_name=container_reg.split(\"/\")[-1]\n",
    "container_url = \"\\\"\" + image.image_location + \"\\\",\"\n",
    "subscription_id = ws.subscription_id\n",
    "\n",
    "client = ContainerRegistryManagementClient(ws._auth,subscription_id)\n",
    "result= client.registries.list_credentials(resource_group, reg_name, custom_headers=None, raw=False)\n",
    "username = result.username\n",
    "password = result.passwords[0].value\n",
    "print('ContainerURL:{}'.format(image.image_location))\n",
    "print('Servername: {}'.format(reg_name))\n",
    "print('Username: {}'.format(username))\n",
    "print('Password: {}'.format(password))"
   ]
  },
  {
   "cell_type": "code",
   "execution_count": null,
   "metadata": {},
   "outputs": [],
   "source": [
    "file = open('MLmodule_deployment_template.json')\n",
    "contents = file.read()\n",
    "contents = contents.replace('__MODULE_NAME', module_name)\n",
    "contents = contents.replace('__REGISTRY_NAME', reg_name)\n",
    "contents = contents.replace('__REGISTRY_USER_NAME', username)\n",
    "contents = contents.replace('__REGISTRY_PASSWORD', password)\n",
    "contents = contents.replace('__REGISTRY_IMAGE_LOCATION', image.image_location)\n",
    "with open('./deployment.json', 'wt', encoding='utf-8') as output_file:\n",
    "    output_file.write(contents)"
   ]
  },
  {
   "cell_type": "code",
   "execution_count": null,
   "metadata": {},
   "outputs": [],
   "source": [
    "# Push the deployment JSON to the IOT Hub\n",
    "!az iot edge set-modules --device-id $device_id \\\n",
    "                         --hub-name $iot_hub_name \\\n",
    "                         --content deployment.json \\\n",
    "                         -g $resource_group"
   ]
  },
  {
   "cell_type": "markdown",
   "metadata": {},
   "source": [
    "You can check the logs of the ML module with using the command in the next cell. **Note that if your edge device differs from the host server, you need to run this command on the edge device.** \n",
    "\n",
    "Common issue and resolution are shown below.\n",
    "\n",
    "An error message \"Error: No such container: module_name\" is shown. Resolution - Please wait for a couple minutes and run this command again. The container is starting up. "
   ]
  },
  {
   "cell_type": "code",
   "execution_count": null,
   "metadata": {},
   "outputs": [],
   "source": [
    "!docker logs -f $module_name"
   ]
  },
  {
   "cell_type": "code",
   "execution_count": null,
   "metadata": {},
   "outputs": [],
   "source": [
    "def get_id(container_name):\n",
    "    contents = docker_client.containers()\n",
    "    for cont in contents:\n",
    "        if container_name in cont['Names'][0]:\n",
    "            return cont[\"Id\"]\n",
    "    return None"
   ]
  },
  {
   "cell_type": "code",
   "execution_count": null,
   "metadata": {},
   "outputs": [],
   "source": [
    "d_id = get_id(module_name)\n",
    "while d_id is None:\n",
    "    d_id = get_id(module_name)\n",
    "    time.sleep(1)"
   ]
  },
  {
   "cell_type": "code",
   "execution_count": null,
   "metadata": {},
   "outputs": [],
   "source": [
    "logs = docker_client.attach(d_id, stream=True, logs=True)"
   ]
  },
  {
   "cell_type": "code",
   "execution_count": null,
   "metadata": {},
   "outputs": [],
   "source": [
    "# keep running this cell until the log contains \"Using TensorFlow backend\", which indicates the container is up running.\n",
    "for l in logs:\n",
    "    msg = l.decode('utf-8')\n",
    "    print(msg)\n",
    "    if \"Opened module client connection\" in msg:\n",
    "        break   "
   ]
  },
  {
   "cell_type": "markdown",
   "metadata": {},
   "source": [
    "When you run `docker ps` command in the edge device, you should see there are three containers running: `edgeAgent`, `edgeHub`, and the container with name `module_name`."
   ]
  },
  {
   "cell_type": "markdown",
   "metadata": {},
   "source": [
    "## Step 4: Test ML Module <a id=\"step4\"></a>\n",
    "We now test the ML Module from iot Edge device."
   ]
  },
  {
   "cell_type": "code",
   "execution_count": 55,
   "metadata": {},
   "outputs": [
    {
     "data": {
      "text/plain": [
       "\"get total number of items on json object?.  possible duplicate: length of javascript object (ie. associative array)   i have an object similar to this one:  i'm trying to get it's length, the problem is that jsonarray.length returns 5 instead of 3 (which is the total items it has). the array is relatively long (has 1000x2000 items) and this must be done a lot of times every second. how can i get the number of items more efficiently?\""
      ]
     },
     "execution_count": 55,
     "metadata": {},
     "output_type": "execute_result"
    }
   ],
   "source": [
    "dupes_test_path = './data_folder/dupes_test.tsv'\n",
    "dupes_test = pd.read_csv(dupes_test_path, sep='\\t', encoding='latin1')\n",
    "text_to_score = dupes_test.iloc[0,4]\n",
    "text_to_score"
   ]
  },
  {
   "cell_type": "code",
   "execution_count": 56,
   "metadata": {},
   "outputs": [],
   "source": [
    "jsontext = text_to_json(text_to_score)"
   ]
  },
  {
   "cell_type": "markdown",
   "metadata": {},
   "source": [
    "Let's try a few more duplicate questions and display their top 3 original matches. Let's first get the scoring URL and and API key for the web service."
   ]
  },
  {
   "cell_type": "code",
   "execution_count": 80,
   "metadata": {},
   "outputs": [],
   "source": [
    "scoring_url = 'http://localhost:5001/score'"
   ]
  },
  {
   "cell_type": "code",
   "execution_count": null,
   "metadata": {},
   "outputs": [],
   "source": [
    "# call the web service end point\n",
    "headers = {'Content-Type':'application/json'}\n",
    "response = requests.post(scoring_url, data=jsontext, headers=headers)\n",
    "response"
   ]
  },
  {
   "cell_type": "code",
   "execution_count": 68,
   "metadata": {},
   "outputs": [
    {
     "data": {
      "text/plain": [
       "'[[11922383, 11922384, 0.9397743269422142], [5223, 6700, 0.9192726368860034], [126100, 4889658, 0.8424747207316404], [23667086, 23667087, 0.6399820273867503], [6491463, 6491621, 0.21430600871807984], [12953704, 12953750, 0.17224920880773398], [1129216, 1129270, 0.1615964737435373], [19590865, 19590901, 0.15327286262230572], [171251, 171256, 0.15267175719683257], [695050, 695053, 0.1327395820659991], [3127429, 3127440, 0.12390130949759141], [2901102, 2901298, 0.10336326500861436], [4968406, 4968448, 0.10249638505076407], [4057440, 4060176, 0.07941774037669798], [728360, 728694, 0.07692824139869399], [7364150, 7364307, 0.05547557395333095], [4616202, 4616273, 0.04798803949633269], [1451009, 1451043, 0.04765288198385024], [1885557, 1885660, 0.04088269195896825], [111102, 111111, 0.03489096061980277], [979256, 979289, 0.022370639909675034], [85992, 86014, 0.02029824630664947], [2274242, 2274327, 0.01701921667517765], [22519784, 22519785, 0.014798770726383218], [1069666, 1069840, 0.013620852762119925], [20279484, 20279485, 0.013138373068910431], [45015, 5686237, 0.012656153130874299], [4255472, 4255480, 0.01102964819332946], [122102, 122704, 0.01077863138157546], [8495687, 8495740, 0.009641383119274646], [901115, 901144, 0.009349518730610414], [14220321, 14220323, 0.009254683714936965], [2631001, 2631198, 0.009197824070139853], [1458633, 3439981, 0.009072009140337619], [1068834, 1144249, 0.009026466631374807], [750486, 750506, 0.008732391853729737], [1520800, 1520853, 0.007649668096544119], [1267283, 1267338, 0.007190683837176462], [1726630, 1726662, 0.006370419928230764], [13418669, 13418980, 0.005206435640693535], [5187530, 5187652, 0.005187138554383794], [684672, 684692, 0.004906859089196781], [3434278, 3434388, 0.004430721202609846], [359494, 359509, 0.003764350424573343], [359788, 359910, 0.003426811513895994], [7486085, 7486130, 0.0029916442915431008], [203198, 1207393, 0.002399880317652693], [4935632, 4935684, 0.0022576684144273566], [18082, 1830844, 0.0022155376792924375], [1789945, 1789952, 0.0020579688810585207], [9032856, 9033306, 0.0019495425118508844], [5627284, 5627301, 0.0018743276115775439], [4425318, 4425359, 0.0018504982390606757], [1527803, 1527820, 0.0014718950179728877], [6487366, 6487376, 0.0013755997714517269], [1144783, 17606289, 0.0012274322949391355], [23392111, 23392650, 0.0011499441930227525], [237104, 1473742, 0.001092552430516449], [572897, 572996, 0.0010408092353445617], [1379934, 1380058, 0.0010145236044499493], [1225667, 1225683, 0.0009905672288864637], [3561043, 3561056, 0.0009478673313221803], [2241875, 2241883, 0.0008187677423713558], [518000, 3638034, 0.0007058785736923075], [784929, 784946, 0.0006862551994255025], [3583724, 3583740, 0.0006762534424262091], [149055, 149150, 0.000631934604494173], [5767325, 5767357, 0.0005839656639367655], [805107, 805113, 0.0005710650107797468], [5117127, 5117172, 0.0005218222778424757], [403967, 22745553, 0.00048755882648444476], [307179, 307200, 0.0004737107674122345], [3076414, 3076648, 0.00046135827294033443], [152975, 153047, 0.0004276021090388293], [7837456, 14853974, 0.0004116170532866992], [28250680, 28250697, 0.00037109591430535316], [205853, 553734, 0.0003603999784350486], [1056728, 1056730, 0.00033376360742929534], [500431, 500459, 0.00030135508619088955], [134845, 138233, 0.0002831213833366267], [6259982, 6260001, 0.00026842254643487536], [951021, 951057, 0.00026388335728597963], [6847697, 6847754, 0.00023659772191553713], [1584370, 1584377, 0.0002332419350847742], [1359018, 9331127, 0.00023242578237103392], [1051782, 1051797, 0.0002145779524351255], [194397, 194399, 0.00018791220441156535], [12829963, 12830031, 0.00018472332336677853], [8228281, 8228308, 0.00018194856368168656], [336859, 336868, 0.00016260288974601593], [1566595, 1566644, 0.00015060001057968492], [2851404, 2851413, 0.00014933404860331909], [5093398, 5100287, 0.00014589294212831398], [1771786, 1771824, 0.00013415500034389525], [201183, 201471, 0.000133260775890009], [610406, 610415, 0.00012848455144640335], [1822350, 1822769, 0.00011922909850287814], [1085801, 1085810, 0.00011782613443503397], [364952, 364997, 0.00010874253566407635], [494035, 494046, 8.957384546536026e-05], [1063007, 1063027, 8.246647304709404e-05], [1634268, 1634321, 8.017844556995425e-05], [850341, 850346, 7.342509610716225e-05], [5891840, 5891929, 7.232227051712567e-05], [3224834, 3224854, 6.679345443994677e-05], [2421911, 2421949, 5.414875033210646e-05], [24900875, 24900924, 5.21410558220113e-05], [3034941, 3034952, 4.985723806633805e-05], [92720, 92819, 4.966961978313123e-05], [10693845, 10693852, 4.8308509191297375e-05], [236073, 236106, 4.6961875718019536e-05], [1359469, 1359507, 3.310600679621447e-05], [1026069, 1026087, 3.24422281957053e-05], [20035101, 20035319, 3.099262601225459e-05], [840781, 840808, 3.074943952058454e-05], [2194992, 2195167, 3.071506372688624e-05], [950087, 950146, 3.0383184968504933e-05], [6677035, 6677069, 2.9247619857222604e-05], [1917576, 1917626, 2.561534929716841e-05], [29986657, 30070207, 2.528568329810448e-05], [2075337, 2075349, 2.466902929774169e-05], [2010892, 2010948, 2.3997583412974057e-05], [1017224, 1017237, 2.3302494357556103e-05], [31044, 31047, 2.275722887247418e-05], [15141762, 15171030, 2.208325983955613e-05], [3384504, 3384534, 2.1637978900719154e-05], [166221, 8758614, 2.1251069990437525e-05], [824349, 3354511, 2.0914972294108473e-05], [1873983, 1873999, 2.052391045497197e-05], [3163407, 3163422, 2.0494137642672868e-05], [14028959, 8716680, 1.964848844226971e-05], [2716069, 2716188, 1.635902183155247e-05], [400212, 6055620, 1.5663967204118912e-05], [37684, 21925491, 1.5006772008860138e-05], [1470488, 1470494, 1.458030302361857e-05], [13840429, 13840431, 1.348687105203218e-05], [23740548, 23740549, 1.2254715773601678e-05], [1646698, 3658673, 1.2024527031967437e-05], [1661197, 9337047, 1.1987038156058778e-05], [2846283, 2846298, 1.1722297183670233e-05], [492994, 493018, 1.1079126715668662e-05], [3059044, 3059129, 1.0818584503580414e-05], [121203, 121259, 1.0021296707751272e-05], [242813, 242833, 9.47389481077008e-06], [12475269, 12475285, 9.28073302591003e-06], [25111831, 25111942, 9.136784562300433e-06], [3561493, 3561711, 9.05361645082301e-06], [4912092, 6678156, 7.85941208506692e-06], [2655925, 8894528, 7.833311617914914e-06], [2320069, 2320097, 7.231171317562186e-06], [2100758, 2100767, 6.843052050752689e-06], [3888902, 3888938, 6.761377133680942e-06], [440739, 440772, 6.669656242674844e-06], [32584850, 32585470, 6.659972310983045e-06], [8021436, 8021462, 6.2171410021480804e-06], [69913, 69984, 5.840488748746621e-06], [262427, 262511, 5.456592979795112e-06], [168214, 169035, 5.1720523648814085e-06], [25881041, 25881231, 5.1611221270751334e-06], [20077487, 20077854, 4.9379834865288505e-06], [4459379, 4459419, 4.294449917613318e-06], [4851595, 4851614, 4.286634054942632e-06], [391979, 810461, 2.9286038520020903e-06], [27928, 27943, 2.8769200363319693e-06], [2844565, 2844704, 2.6617507453300244e-06], [5431351, 5431435, 2.616240692700875e-06], [1433212, 1433217, 2.4703266153539988e-06], [7165395, 7165616, 1.866135145363743e-06], [5874652, 5876747, 1.8108346167473627e-06], [7506844, 7506937, 1.792971181057846e-06], [2802055, 2802064, 1.6269715295295722e-06], [1398582, 1398608, 1.4997207650890944e-06], [3665115, 3665147, 1.4667833658774154e-06], [4907843, 4907854, 1.372781733861665e-06], [5316697, 5316755, 1.2350128718960307e-06], [5004233, 5004276, 9.782418001734874e-07], [8110934, 8111171, 7.525048271071836e-07], [436411, 24070373, 7.018986073006442e-07], [5041494, 5734583, 6.662301174112066e-07], [2067472, 2067584, 5.351137817718905e-07], [3514784, 3540295, 3.9297736051839117e-07], [3595515, 3744697, 2.6818571677597603e-07]]'"
      ]
     },
     "execution_count": 68,
     "metadata": {},
     "output_type": "execute_result"
    }
   ],
   "source": [
    "prediction = json.loads(response.content.decode('ascii'))\n",
    "prediction"
   ]
  },
  {
   "cell_type": "code",
   "execution_count": null,
   "metadata": {},
   "outputs": [],
   "source": [
    "dupes_to_score = dupes_test.iloc[:5,4]"
   ]
  },
  {
   "cell_type": "code",
   "execution_count": null,
   "metadata": {},
   "outputs": [],
   "source": [
    "results = [\n",
    "    requests.post(scoring_url, data=text_to_json(text), headers=headers)\n",
    "    for text in dupes_to_score\n",
    "]"
   ]
  },
  {
   "cell_type": "markdown",
   "metadata": {},
   "source": [
    "Let's print top 3 matches for each duplicate question."
   ]
  },
  {
   "cell_type": "code",
   "execution_count": null,
   "metadata": {},
   "outputs": [],
   "source": [
    "[eval(results[i].json())[0:3] for i in range(0, len(results))]"
   ]
  },
  {
   "cell_type": "markdown",
   "metadata": {},
   "source": [
    "Next let's quickly check what the request response performance is for the deployed model on IoT edge device."
   ]
  },
  {
   "cell_type": "code",
   "execution_count": null,
   "metadata": {},
   "outputs": [],
   "source": [
    "text_data = list(map(text_to_json, dupes_to_score))  # Retrieve the text data"
   ]
  },
  {
   "cell_type": "code",
   "execution_count": null,
   "metadata": {},
   "outputs": [],
   "source": [
    "timer_results = list()\n",
    "for text in text_data:\n",
    "    res=%timeit -r 1 -o -q requests.post(scoring_url, data=text, headers=headers)\n",
    "    timer_results.append(res.best)"
   ]
  },
  {
   "cell_type": "code",
   "execution_count": null,
   "metadata": {},
   "outputs": [],
   "source": [
    "timer_results"
   ]
  },
  {
   "cell_type": "code",
   "execution_count": null,
   "metadata": {},
   "outputs": [],
   "source": [
    "print(\"Average time taken: {0:4.2f} ms\".format(10 ** 3 * np.mean(timer_results)))"
   ]
  }
 ],
 "metadata": {
  "authors": [
   {
    "name": "raymondl"
   }
  ],
  "kernelspec": {
   "display_name": "Python [conda env:MLAKSDeployAML]",
   "language": "python",
   "name": "conda-env-MLAKSDeployAML-py"
  },
  "language_info": {
   "codemirror_mode": {
    "name": "ipython",
    "version": 3
   },
   "file_extension": ".py",
   "mimetype": "text/x-python",
   "name": "python",
   "nbconvert_exporter": "python",
   "pygments_lexer": "ipython3",
   "version": "3.6.2"
  }
 },
 "nbformat": 4,
 "nbformat_minor": 2
}
