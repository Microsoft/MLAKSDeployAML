{
 "cells": [
  {
   "cell_type": "markdown",
   "metadata": {},
   "source": [
    "# Load Test deployed web application"
   ]
  },
  {
   "cell_type": "markdown",
   "metadata": {},
   "source": [
    "This notebook pulls some images and tests them against the deployed web application. We submit requests asychronously which should reduce the contribution of latency."
   ]
  },
  {
   "cell_type": "code",
   "execution_count": 2,
   "metadata": {},
   "outputs": [],
   "source": [
    "import os\n",
    "from timeit import default_timer\n",
    "import pandas as pd\n",
    "\n",
    "from azureml.core.webservice import AksWebservice\n",
    "from azureml.core.workspace import Workspace\n",
    "from dotenv import get_key, find_dotenv\n",
    "from utilities import get_auth\n",
    "from urllib.parse import urlparse\n"
   ]
  },
  {
   "cell_type": "code",
   "execution_count": 3,
   "metadata": {},
   "outputs": [],
   "source": [
    "env_path = find_dotenv(raise_error_if_not_found=True)"
   ]
  },
  {
   "cell_type": "code",
   "execution_count": null,
   "metadata": {},
   "outputs": [],
   "source": [
    "ws = Workspace.from_config(auth=get_auth(env_path))\n",
    "print(ws.name, ws.resource_group, ws.location, ws.subscription_id, sep=\"\\n\")"
   ]
  },
  {
   "cell_type": "markdown",
   "metadata": {},
   "source": [
    "Let's retrive the web service."
   ]
  },
  {
   "cell_type": "code",
   "execution_count": 5,
   "metadata": {},
   "outputs": [],
   "source": [
    "aks_service_name = get_key(env_path, 'aks_service_name')\n",
    "aks_service = AksWebservice(ws, name=aks_service_name)"
   ]
  },
  {
   "cell_type": "markdown",
   "metadata": {},
   "source": [
    "We will test our service concurrently but only have 4 concurrent requests at any time. We have only deployed one pod on one node and increasing the number of concurrent calls does not really increase throughput. Feel free to try different values and see how the service responds."
   ]
  },
  {
   "cell_type": "code",
   "execution_count": null,
   "metadata": {
    "tags": [
     "parameters"
    ]
   },
   "outputs": [],
   "source": [
    "CONCURRENT_REQUESTS = 4   # Number of requests at a time"
   ]
  },
  {
   "cell_type": "markdown",
   "metadata": {},
   "source": [
    "Get the scoring URL and API key of the service."
   ]
  },
  {
   "cell_type": "code",
   "execution_count": 7,
   "metadata": {},
   "outputs": [],
   "source": [
    "scoring_url = aks_service.scoring_uri\n",
    "api_key = aks_service.get_keys()[0]"
   ]
  },
  {
   "cell_type": "markdown",
   "metadata": {},
   "source": [
    "Below we are going to use [Locust](https://locust.io/) to load test our deployed model. First we need to write the locustfile."
   ]
  },
  {
   "cell_type": "code",
   "execution_count": 9,
   "metadata": {},
   "outputs": [
    {
     "name": "stdout",
     "output_type": "stream",
     "text": [
      "Overwriting locustfile.py\n"
     ]
    }
   ],
   "source": [
    "%%writefile locustfile.py\n",
    "from locust import HttpLocust, TaskSet, task\n",
    "import os\n",
    "import pandas as pd\n",
    "from utilities import text_to_json\n",
    "from itertools import cycle\n",
    "\n",
    "\n",
    "_NUMBER_OF_REQUESTS = os.getenv('NUMBER_OF_REQUESTS', 100)\n",
    "dupes_test_path = './data_folder/dupes_test.tsv'\n",
    "dupes_test = pd.read_csv(dupes_test_path, sep='\\t', encoding='latin1')\n",
    "dupes_to_score = dupes_test.iloc[:_NUMBER_OF_REQUESTS,4]\n",
    "_SCORE_PATH = os.getenv('SCORE_PATH', \"/score\")\n",
    "_API_KEY = os.getenv('API_KEY')\n",
    "\n",
    "\n",
    "class UserBehavior(TaskSet):\n",
    "    def on_start(self):\n",
    "        print('Running setup')\n",
    "        self._text_generator =  cycle(dupes_to_score.apply(text_to_json))\n",
    "        self._headers = {\n",
    "             \"content-type\": \"application/json\",\n",
    "             'Authorization':('Bearer {}'.format(_API_KEY))\n",
    "        }\n",
    "        \n",
    "    @task\n",
    "    def score(self):\n",
    "        self.client.post(_SCORE_PATH, data=next(self._text_generator), headers=self._headers)\n",
    "\n",
    "\n",
    "class WebsiteUser(HttpLocust):\n",
    "    task_set = UserBehavior\n",
    "    # min and max time to wait before repeating task\n",
    "    min_wait = 10\n",
    "    max_wait = 200"
   ]
  },
  {
   "cell_type": "markdown",
   "metadata": {},
   "source": [
    "Below we define the locust command we want to run. We are going to run at a hatch rate of 10 and the whole test will last 1 minute. Feel free to adjust the parameters below and see how the results differ. The results of the test will be saved to two csv files **modeltest_requests.csv** and **modeltest_distribution.csv**"
   ]
  },
  {
   "cell_type": "code",
   "execution_count": 10,
   "metadata": {},
   "outputs": [],
   "source": [
    "parsed_url = urlparse(scoring_url)\n",
    "cmd = \"locust -H {host} --no-web -c {users} -r {rate} -t {duration} --csv=modeltest --only-summary\".format(\n",
    "    host=\"{url.scheme}://{url.netloc}\".format(url=parsed_url),\n",
    "    users=CONCURRENT_REQUESTS,  # concurrent users\n",
    "    rate=10,                    # hatch rate (users / second)\n",
    "    duration='1m',              # test duration\n",
    ")"
   ]
  },
  {
   "cell_type": "code",
   "execution_count": 11,
   "metadata": {
    "scrolled": true
   },
   "outputs": [
    {
     "name": "stdout",
     "output_type": "stream",
     "text": [
      "[2019-05-07 18:14:59,817] msvole2/INFO/locust.main: Run time limit set to 60 seconds\n",
      "[2019-05-07 18:14:59,817] msvole2/INFO/locust.main: Starting Locust 0.11.0\n",
      "[2019-05-07 18:14:59,817] msvole2/INFO/locust.runners: Hatching and swarming 4 clients at the rate 10 clients/s...\n",
      "[2019-05-07 18:14:59,818] msvole2/INFO/stdout: Running setup\n",
      "[2019-05-07 18:14:59,818] msvole2/INFO/stdout: \n",
      "[2019-05-07 18:15:00,108] msvole2/INFO/stdout: Running setup\n",
      "[2019-05-07 18:15:00,108] msvole2/INFO/stdout: \n",
      "[2019-05-07 18:15:00,385] msvole2/INFO/stdout: Running setup\n",
      "[2019-05-07 18:15:00,386] msvole2/INFO/stdout: \n",
      "[2019-05-07 18:15:00,665] msvole2/INFO/stdout: Running setup\n",
      "[2019-05-07 18:15:00,665] msvole2/INFO/stdout: \n",
      "[2019-05-07 18:15:00,945] msvole2/INFO/locust.runners: All locusts hatched: WebsiteUser: 4\n",
      "[2019-05-07 18:15:59,817] msvole2/INFO/locust.main: Time limit reached. Stopping Locust.\n",
      "[2019-05-07 18:15:59,818] msvole2/INFO/locust.main: Shutting down (exit code 0), bye.\n",
      "[2019-05-07 18:15:59,818] msvole2/INFO/locust.main: Cleaning up runner...\n",
      "[2019-05-07 18:15:59,818] msvole2/INFO/locust.main: Running teardowns...\n",
      " Name                                                          # reqs      # fails     Avg     Min     Max  |  Median   req/s\n",
      "--------------------------------------------------------------------------------------------------------------------------------------------\n",
      " POST /api/v1/service/askservice/score                            806     0(0.00%)     184      86     436  |     180   13.60\n",
      "--------------------------------------------------------------------------------------------------------------------------------------------\n",
      " Total                                                            806     0(0.00%)                                      13.60\n",
      "\n",
      "Percentage of the requests completed within given times\n",
      " Name                                                           # reqs    50%    66%    75%    80%    90%    95%    98%    99%   100%\n",
      "--------------------------------------------------------------------------------------------------------------------------------------------\n",
      " POST /api/v1/service/askservice/score                             806    180    200    210    220    250    270    290    310    440\n",
      "--------------------------------------------------------------------------------------------------------------------------------------------\n",
      " Total                                                             806    180    200    210    220    250    270    290    310    440\n",
      "\n"
     ]
    }
   ],
   "source": [
    "! API_KEY={api_key} SCORE_PATH={parsed_url.path} PYTHONPATH={os.path.abspath('../')} {cmd}"
   ]
  },
  {
   "cell_type": "markdown",
   "metadata": {},
   "source": [
    "Here are the summary results of our test and below that the distribution infromation of those tests. "
   ]
  },
  {
   "cell_type": "code",
   "execution_count": 12,
   "metadata": {},
   "outputs": [
    {
     "data": {
      "text/html": [
       "<div>\n",
       "<style scoped>\n",
       "    .dataframe tbody tr th:only-of-type {\n",
       "        vertical-align: middle;\n",
       "    }\n",
       "\n",
       "    .dataframe tbody tr th {\n",
       "        vertical-align: top;\n",
       "    }\n",
       "\n",
       "    .dataframe thead th {\n",
       "        text-align: right;\n",
       "    }\n",
       "</style>\n",
       "<table border=\"1\" class=\"dataframe\">\n",
       "  <thead>\n",
       "    <tr style=\"text-align: right;\">\n",
       "      <th></th>\n",
       "      <th>Method</th>\n",
       "      <th>Name</th>\n",
       "      <th># requests</th>\n",
       "      <th># failures</th>\n",
       "      <th>Median response time</th>\n",
       "      <th>Average response time</th>\n",
       "      <th>Min response time</th>\n",
       "      <th>Max response time</th>\n",
       "      <th>Average Content Size</th>\n",
       "      <th>Requests/s</th>\n",
       "    </tr>\n",
       "  </thead>\n",
       "  <tbody>\n",
       "    <tr>\n",
       "      <th>0</th>\n",
       "      <td>POST</td>\n",
       "      <td>/api/v1/service/askservice/score</td>\n",
       "      <td>806</td>\n",
       "      <td>0</td>\n",
       "      <td>180</td>\n",
       "      <td>184</td>\n",
       "      <td>86</td>\n",
       "      <td>436</td>\n",
       "      <td>181</td>\n",
       "      <td>13.62</td>\n",
       "    </tr>\n",
       "    <tr>\n",
       "      <th>1</th>\n",
       "      <td>None</td>\n",
       "      <td>Total</td>\n",
       "      <td>806</td>\n",
       "      <td>0</td>\n",
       "      <td>180</td>\n",
       "      <td>184</td>\n",
       "      <td>86</td>\n",
       "      <td>436</td>\n",
       "      <td>181</td>\n",
       "      <td>13.62</td>\n",
       "    </tr>\n",
       "  </tbody>\n",
       "</table>\n",
       "</div>"
      ],
      "text/plain": [
       "  Method                              Name  # requests  # failures  \\\n",
       "0   POST  /api/v1/service/askservice/score         806           0   \n",
       "1   None                             Total         806           0   \n",
       "\n",
       "   Median response time  Average response time  Min response time  \\\n",
       "0                   180                    184                 86   \n",
       "1                   180                    184                 86   \n",
       "\n",
       "   Max response time  Average Content Size  Requests/s  \n",
       "0                436                   181       13.62  \n",
       "1                436                   181       13.62  "
      ]
     },
     "execution_count": 12,
     "metadata": {},
     "output_type": "execute_result"
    }
   ],
   "source": [
    "pd.read_csv(\"modeltest_requests.csv\")"
   ]
  },
  {
   "cell_type": "code",
   "execution_count": 13,
   "metadata": {},
   "outputs": [
    {
     "data": {
      "text/html": [
       "<div>\n",
       "<style scoped>\n",
       "    .dataframe tbody tr th:only-of-type {\n",
       "        vertical-align: middle;\n",
       "    }\n",
       "\n",
       "    .dataframe tbody tr th {\n",
       "        vertical-align: top;\n",
       "    }\n",
       "\n",
       "    .dataframe thead th {\n",
       "        text-align: right;\n",
       "    }\n",
       "</style>\n",
       "<table border=\"1\" class=\"dataframe\">\n",
       "  <thead>\n",
       "    <tr style=\"text-align: right;\">\n",
       "      <th></th>\n",
       "      <th>Name</th>\n",
       "      <th># requests</th>\n",
       "      <th>50%</th>\n",
       "      <th>66%</th>\n",
       "      <th>75%</th>\n",
       "      <th>80%</th>\n",
       "      <th>90%</th>\n",
       "      <th>95%</th>\n",
       "      <th>98%</th>\n",
       "      <th>99%</th>\n",
       "      <th>100%</th>\n",
       "    </tr>\n",
       "  </thead>\n",
       "  <tbody>\n",
       "    <tr>\n",
       "      <th>0</th>\n",
       "      <td>POST /api/v1/service/askservice/score</td>\n",
       "      <td>806</td>\n",
       "      <td>180</td>\n",
       "      <td>200</td>\n",
       "      <td>210</td>\n",
       "      <td>220</td>\n",
       "      <td>250</td>\n",
       "      <td>270</td>\n",
       "      <td>290</td>\n",
       "      <td>310</td>\n",
       "      <td>440</td>\n",
       "    </tr>\n",
       "    <tr>\n",
       "      <th>1</th>\n",
       "      <td>Total</td>\n",
       "      <td>806</td>\n",
       "      <td>180</td>\n",
       "      <td>200</td>\n",
       "      <td>210</td>\n",
       "      <td>220</td>\n",
       "      <td>250</td>\n",
       "      <td>270</td>\n",
       "      <td>290</td>\n",
       "      <td>310</td>\n",
       "      <td>440</td>\n",
       "    </tr>\n",
       "  </tbody>\n",
       "</table>\n",
       "</div>"
      ],
      "text/plain": [
       "                                    Name  # requests  50%  66%  75%  80%  90%  \\\n",
       "0  POST /api/v1/service/askservice/score         806  180  200  210  220  250   \n",
       "1                                  Total         806  180  200  210  220  250   \n",
       "\n",
       "   95%  98%  99%  100%  \n",
       "0  270  290  310   440  \n",
       "1  270  290  310   440  "
      ]
     },
     "execution_count": 13,
     "metadata": {},
     "output_type": "execute_result"
    }
   ],
   "source": [
    "pd.read_csv(\"modeltest_distribution.csv\")"
   ]
  },
  {
   "cell_type": "markdown",
   "metadata": {},
   "source": [
    "To tear down the cluster and all related resources go to the [tear down the cluster](07_TearDown.ipynb) notebook."
   ]
  }
 ],
 "metadata": {
  "jupytext": {
   "formats": "ipynb"
  },
  "kernelspec": {
   "display_name": "Python [default]",
   "language": "python",
   "name": "python3"
  },
  "language_info": {
   "codemirror_mode": {
    "name": "ipython",
    "version": 3
   },
   "file_extension": ".py",
   "mimetype": "text/x-python",
   "name": "python",
   "nbconvert_exporter": "python",
   "pygments_lexer": "ipython3",
   "version": "3.5.5"
  }
 },
 "nbformat": 4,
 "nbformat_minor": 2
}
